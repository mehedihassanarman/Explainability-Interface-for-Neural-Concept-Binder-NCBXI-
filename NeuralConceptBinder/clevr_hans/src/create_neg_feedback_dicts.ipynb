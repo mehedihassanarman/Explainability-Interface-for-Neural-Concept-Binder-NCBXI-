{
 "cells": [
  {
   "cell_type": "code",
   "execution_count": 1,
   "id": "e452ca2f",
   "metadata": {},
   "outputs": [],
   "source": [
    "import numpy as np\n",
    "import pickle\n",
    "import os"
   ]
  },
  {
   "cell_type": "markdown",
   "id": "d9c3869d",
   "metadata": {},
   "source": [
    "## Create dictionary of which concepts not to focus on for seed 0 CLEVR_4_1_cls"
   ]
  },
  {
   "cell_type": "code",
   "execution_count": 2,
   "id": "f26b29af",
   "metadata": {},
   "outputs": [],
   "source": [
    "SEED = 0\n",
    "neg_feedback_cls0 = {}\n",
    "neg_feedback_cls0[1] = [3]\n",
    "neg_feedback_cls0[2] = [5]\n",
    "neg_feedback_cls0[3] = [0]\n",
    "neg_feedback_cls0[5] = [7]\n",
    "neg_feedback_cls0[10] = [3, 7, 8, 9, 10]\n",
    "neg_feedback_cls0[12] = [11, 16]\n",
    "\n",
    "neg_feedback_seed0 = {0: neg_feedback_cls0}\n",
    "neg_feedback_seed0[1] = {}\n",
    "neg_feedback_seed0[2] = {}"
   ]
  },
  {
   "cell_type": "code",
   "execution_count": 3,
   "id": "2edce9f7",
   "metadata": {},
   "outputs": [],
   "source": [
    "fp_save = f'runs/CLEVR_4_1_cls/retbind_settransformer-1obj-0-CLEVR_4_1_cls_seed{SEED}/neg_feedback_dict.pkl'\n",
    "with open(fp_save, 'wb') as f:\n",
    "    pickle.dump(neg_feedback_seed0, f)"
   ]
  },
  {
   "cell_type": "markdown",
   "id": "267a7a6e",
   "metadata": {},
   "source": [
    "## Create dictionary of which concepts not to focus on for seed 1 CLEVR_4_1_cls"
   ]
  },
  {
   "cell_type": "code",
   "execution_count": 4,
   "id": "fb7bb71f",
   "metadata": {},
   "outputs": [],
   "source": [
    "SEED = 1\n",
    "neg_feedback_cls0 = {}\n",
    "neg_feedback_cls0[1] = [1]\n",
    "neg_feedback_cls0[4] = [1, 4]\n",
    "neg_feedback_cls0[8] = [7, 8, 9, 11, 12, 13, 14, 15, 16, 17, 28, 29, 30, 32, 33, 35, 36, 37, 38]\n",
    "neg_feedback_cls0[10] = [2]\n",
    "neg_feedback_cls0[11] = [1, 55, 59]\n",
    "\n",
    "neg_feedback_seed1 = {0: neg_feedback_cls0}\n",
    "neg_feedback_seed1[1] = {}\n",
    "neg_feedback_seed1[2] = {}"
   ]
  },
  {
   "cell_type": "code",
   "execution_count": 5,
   "id": "a27cb896",
   "metadata": {},
   "outputs": [],
   "source": [
    "fp_save = f'runs/CLEVR_4_1_cls/retbind_settransformer-1obj-0-CLEVR_4_1_cls_seed{SEED}/neg_feedback_dict.pkl'\n",
    "with open(fp_save, 'wb') as f:\n",
    "    pickle.dump(neg_feedback_seed1, f)"
   ]
  },
  {
   "cell_type": "markdown",
   "id": "19ce142d",
   "metadata": {},
   "source": [
    "## Create dictionary of which concepts not to focus on for seed 2 CLEVR_4_1_cls"
   ]
  },
  {
   "cell_type": "code",
   "execution_count": 6,
   "id": "c1895dac",
   "metadata": {},
   "outputs": [],
   "source": [
    "SEED = 2\n",
    "neg_feedback_cls0 = {}\n",
    "neg_feedback_cls0[2] = [3]\n",
    "neg_feedback_cls0[7] = [4]\n",
    "neg_feedback_cls0[14] = [11, 12]\n",
    "neg_feedback_cls0[15] = [4, 5]\n",
    "\n",
    "neg_feedback_seed2 = {0: neg_feedback_cls0}\n",
    "neg_feedback_seed2[1] = {}\n",
    "neg_feedback_seed2[2] = {}"
   ]
  },
  {
   "cell_type": "code",
   "execution_count": 7,
   "id": "86de9585",
   "metadata": {},
   "outputs": [],
   "source": [
    "fp_save = f'runs/CLEVR_4_1_cls/retbind_settransformer-1obj-0-CLEVR_4_1_cls_seed{SEED}/neg_feedback_dict.pkl'\n",
    "with open(fp_save, 'wb') as f:\n",
    "    pickle.dump(neg_feedback_seed2, f)"
   ]
  },
  {
   "cell_type": "code",
   "execution_count": null,
   "id": "78eaf3b1",
   "metadata": {},
   "outputs": [],
   "source": []
  }
 ],
 "metadata": {
  "kernelspec": {
   "display_name": "Python 3 (ipykernel)",
   "language": "python",
   "name": "python3"
  },
  "language_info": {
   "codemirror_mode": {
    "name": "ipython",
    "version": 3
   },
   "file_extension": ".py",
   "mimetype": "text/x-python",
   "name": "python",
   "nbconvert_exporter": "python",
   "pygments_lexer": "ipython3",
   "version": "3.8.13"
  }
 },
 "nbformat": 4,
 "nbformat_minor": 5
}
