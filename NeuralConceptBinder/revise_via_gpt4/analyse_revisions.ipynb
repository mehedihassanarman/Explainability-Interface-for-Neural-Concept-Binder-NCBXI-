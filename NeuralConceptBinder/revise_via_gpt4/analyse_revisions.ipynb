{
 "cells": [
  {
   "cell_type": "code",
   "execution_count": 17,
   "id": "babe92c9",
   "metadata": {},
   "outputs": [],
   "source": [
    "import numpy as np\n",
    "import os\n",
    "import pickle\n",
    "import matplotlib.pyplot as plt"
   ]
  },
  {
   "cell_type": "code",
   "execution_count": 37,
   "id": "1d21ea90",
   "metadata": {},
   "outputs": [],
   "source": [
    "base_path_revision = '../logs/clevr_easy_500_epochs/sysbind_orig_seed2/revision/'\n",
    "# base_path_revision = '../logs/clevr4_600_epochs/clevr4_sysbind_orig_seed2/revision/'\n",
    "\n",
    "base_path_prior_revision = os.path.join(*base_path_revision.split(os.path.sep)[:-2])"
   ]
  },
  {
   "cell_type": "code",
   "execution_count": 3,
   "id": "30430bca",
   "metadata": {},
   "outputs": [],
   "source": [
    "# with open(f'{base_path}concepts_delete_dict.pkl', 'rb') as f:\n",
    "#     delete_concepts_dict = pickle.load(f)\n",
    "# with open(f'{base_path}concepts_merge_dict.pkl', 'rb') as f:\n",
    "#     merge_concepts_dict = pickle.load(f)"
   ]
  },
  {
   "cell_type": "code",
   "execution_count": 4,
   "id": "4bfc02e4",
   "metadata": {},
   "outputs": [],
   "source": [
    "# def count_n_deletions(delete_concepts_dict):\n",
    "#     n_delete = 0\n",
    "#     for block_id in delete_concepts_dict.keys():\n",
    "#         n_delete += len(delete_concepts_dict[block_id])\n",
    "#     return n_delete\n",
    "\n",
    "\n",
    "# def count_n_merges(merge_concepts_dict):\n",
    "#     n_merge = 0\n",
    "#     for block_id in merge_concepts_dict.keys():\n",
    "#         for concept_id in merge_concepts_dict[block_id].keys():\n",
    "#             for concept_id2 in merge_concepts_dict[block_id][concept_id].keys():\n",
    "#                 if merge_concepts_dict[block_id][concept_id][concept_id2]:\n",
    "#                     n_merge += 1\n",
    "#     return n_merge"
   ]
  },
  {
   "cell_type": "code",
   "execution_count": 38,
   "id": "0106cfaf",
   "metadata": {},
   "outputs": [
    {
     "name": "stdout",
     "output_type": "stream",
     "text": [
      "32 concepts before revision.\n",
      "25 concepts after delete revision.\n",
      "7 deleted\n",
      "21.88% deleted\n",
      "24 concepts after delete and merge revision.\n",
      "1 merged\n",
      "3.12% merged\n"
     ]
    }
   ],
   "source": [
    "# N concepts prior revision\n",
    "with open(f'{base_path_prior_revision}/block_concept_dicts.pkl', 'rb') as f:\n",
    "    ret_corpus_prior = pickle.load(f)\n",
    "\n",
    "n_concepts_prior = 0\n",
    "for k in range(len(ret_corpus_prior)):\n",
    "    n_concepts_prior += len(np.unique(ret_corpus_prior[k]['prototypes']['ids']))\n",
    "print(f'{n_concepts_prior} concepts before revision.')\n",
    "\n",
    "# N concepts after deletion\n",
    "with open(f'{base_path_revision}/block_concept_dicts_revise_delete.pkl', 'rb') as f:\n",
    "    ret_corpus_delete = pickle.load(f)\n",
    "\n",
    "n_concepts_delete = 0\n",
    "for k in range(len(ret_corpus_delete)):\n",
    "    n_concepts_delete += len(np.unique(ret_corpus_delete[k]['prototypes']['ids']))\n",
    "print(f'{n_concepts_delete} concepts after delete revision.')\n",
    "print(f'{n_concepts_prior - n_concepts_delete} deleted')\n",
    "print(f'{np.round(100*(n_concepts_prior - n_concepts_delete)/n_concepts_prior, 2)}% deleted')\n",
    "\n",
    "# N concepts after deletion & merge\n",
    "with open(f'{base_path_revision}/block_concept_dicts_revise_delete_merge.pkl', 'rb') as f:\n",
    "    ret_corpus_delete_merge = pickle.load(f)\n",
    "\n",
    "n_concepts_delete_merge = 0\n",
    "for k in range(len(ret_corpus_delete_merge)):\n",
    "    n_concepts_delete_merge += len(np.unique(ret_corpus_delete_merge[k]['prototypes']['ids']))\n",
    "print(f'{n_concepts_delete_merge} concepts after delete and merge revision.')\n",
    "print(f'{n_concepts_delete - n_concepts_delete_merge} merged')\n",
    "print(f'{np.round(100*(n_concepts_delete - n_concepts_delete_merge)/n_concepts_prior, 2)}% merged')"
   ]
  },
  {
   "cell_type": "code",
   "execution_count": 24,
   "id": "c2c3b0f2",
   "metadata": {},
   "outputs": [
    {
     "data": {
      "text/plain": [
       "101"
      ]
     },
     "execution_count": 24,
     "metadata": {},
     "output_type": "execute_result"
    }
   ],
   "source": [
    "420-319"
   ]
  },
  {
   "cell_type": "code",
   "execution_count": null,
   "id": "15fa57a9",
   "metadata": {},
   "outputs": [],
   "source": []
  }
 ],
 "metadata": {
  "kernelspec": {
   "display_name": "Python 3 (ipykernel)",
   "language": "python",
   "name": "python3"
  },
  "language_info": {
   "codemirror_mode": {
    "name": "ipython",
    "version": 3
   },
   "file_extension": ".py",
   "mimetype": "text/x-python",
   "name": "python",
   "nbconvert_exporter": "python",
   "pygments_lexer": "ipython3",
   "version": "3.9.18"
  }
 },
 "nbformat": 4,
 "nbformat_minor": 5
}
