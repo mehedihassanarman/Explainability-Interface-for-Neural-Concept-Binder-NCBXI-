{
 "cells": [
  {
   "cell_type": "code",
   "execution_count": 2,
   "id": "b5e906aa",
   "metadata": {},
   "outputs": [
    {
     "ename": "ImportError",
     "evalue": "cannot import name 'CLEVREasy_1_WithAnnotations' from 'data' (/workspace/repositories/SysBindRetrieve/sysbinder/data.py)",
     "output_type": "error",
     "traceback": [
      "\u001b[0;31m---------------------------------------------------------------------------\u001b[0m",
      "\u001b[0;31mImportError\u001b[0m                               Traceback (most recent call last)",
      "Cell \u001b[0;32mIn [2], line 20\u001b[0m\n\u001b[1;32m     17\u001b[0m \u001b[38;5;28;01mfrom\u001b[39;00m \u001b[38;5;21;01msklearn\u001b[39;00m\u001b[38;5;21;01m.\u001b[39;00m\u001b[38;5;21;01mlinear_model\u001b[39;00m \u001b[38;5;28;01mimport\u001b[39;00m LogisticRegression\n\u001b[1;32m     18\u001b[0m \u001b[38;5;28;01mfrom\u001b[39;00m \u001b[38;5;21;01msklearn\u001b[39;00m \u001b[38;5;28;01mimport\u001b[39;00m metrics\n\u001b[0;32m---> 20\u001b[0m \u001b[38;5;28;01mfrom\u001b[39;00m \u001b[38;5;21;01mdata\u001b[39;00m \u001b[38;5;28;01mimport\u001b[39;00m CLEVREasy_1_WithAnnotations, CLEVR4_1_WithAnnotations\n\u001b[1;32m     21\u001b[0m \u001b[38;5;28;01mfrom\u001b[39;00m \u001b[38;5;21;01mretrievalbinder\u001b[39;00m \u001b[38;5;28;01mimport\u001b[39;00m NeuralConceptBinder\n\u001b[1;32m     22\u001b[0m \u001b[38;5;28;01mimport\u001b[39;00m \u001b[38;5;21;01mutils_bnr\u001b[39;00m \u001b[38;5;28;01mas\u001b[39;00m \u001b[38;5;21;01mutils_bnr\u001b[39;00m\n",
      "\u001b[0;31mImportError\u001b[0m: cannot import name 'CLEVREasy_1_WithAnnotations' from 'data' (/workspace/repositories/SysBindRetrieve/sysbinder/data.py)"
     ]
    }
   ],
   "source": [
    "import argparse\n",
    "import torch\n",
    "import sysbinder\n",
    "import os\n",
    "import torch.nn.functional as F\n",
    "import torch.multiprocessing as mp\n",
    "import scipy.optimize\n",
    "import numpy as np\n",
    "import matplotlib\n",
    "import matplotlib.pyplot as plt\n",
    "from rtpt import RTPT\n",
    "from tqdm import tqdm\n",
    "from datetime import datetime\n",
    "from torch.utils.tensorboard import SummaryWriter\n",
    "from torch.utils.data import DataLoader\n",
    "from sklearn.tree import DecisionTreeClassifier\n",
    "from sklearn.linear_model import LogisticRegression\n",
    "from sklearn import metrics\n",
    "\n",
    "from data import CLEVREasy_1_WithAnnotations, CLEVR4_1_WithAnnotations\n",
    "from retrievalbinder import NeuralConceptBinder\n",
    "import utils_bnr as utils_bnr\n",
    "\n",
    "torch.set_num_threads(40)\n",
    "OMP_NUM_THREADS = 40\n",
    "MKL_NUM_THREADS = 40\n",
    "\n",
    "class Args:\n",
    "    seed = 0\n",
    "    batch_size = 30\n",
    "    num_workers = 4\n",
    "    image_size = 128\n",
    "    image_channels = 3\n",
    "    \n",
    "    # !!!! CHANGE THIS AS REQUIRED !!!!\n",
    "#     base_save_path = '/workspace/repositories/SysBindRetrieve/logs/clevr_easy_500_epochs/random_imgs'\n",
    "#     data_path = \"/workspace/datasets_wolf/CLEVR-Easy-1/\"\n",
    "\n",
    "    base_save_path = '/workspace/repositories/SysBindRetrieve/logs/clevr4_600_epochs/random_imgs'\n",
    "    data_path = \"/workspace/datasets_wolf/CLEVR-4-1/\"\n",
    "    \n",
    "args=Args()\n",
    "args.device = torch.device(\"cuda\" if torch.cuda.is_available() else \"cpu\")\n",
    "utils_bnr.set_seed(args.seed)\n",
    "\n",
    "# set seed\n",
    "torch.manual_seed(args.seed)\n",
    "\n",
    "\n",
    "# we train the classifier on the original validation set and test on the original test set\n",
    "if 'CLEVR-Easy-1' in args.data_path:\n",
    "    train_dataset = CLEVREasy_1_WithAnnotations(\n",
    "        root=args.data_path, phase=\"train\", img_size=args.image_size, max_num_objs=4,\n",
    "        num_categories=2, perc_imgs=1.\n",
    "    )\n",
    "elif 'CLEVR-4-1' in args.data_path:\n",
    "    train_dataset = CLEVR4_1_WithAnnotations(\n",
    "        root=args.data_path, phase=\"train\", img_size=args.image_size, max_num_objs=4,\n",
    "        num_categories=4, perc_imgs=1.\n",
    "    )\n",
    "\n",
    "loader_kwargs = {\n",
    "    \"batch_size\": args.batch_size,\n",
    "    \"shuffle\": False,\n",
    "    \"num_workers\": args.num_workers,\n",
    "    \"pin_memory\": True,\n",
    "    \"drop_last\": True,\n",
    "}\n",
    "train_loader = DataLoader(train_dataset, **loader_kwargs)"
   ]
  },
  {
   "cell_type": "code",
   "execution_count": null,
   "id": "fd286c47",
   "metadata": {},
   "outputs": [],
   "source": [
    "for i, batch in enumerate(train_loader):\n",
    "    imgs, _, _, _ = batch\n",
    "    np_imgs = np.transpose(imgs.detach().cpu().numpy(), (0, 2, 3, 1))[:25]\n",
    "\n",
    "    fig, axs = plt.subplots(5, 5)\n",
    "    axs = axs.flatten()\n",
    "    for j in range(len(axs)):\n",
    "        if j < len(np_imgs):\n",
    "            axs[j].imshow(np_imgs[j])\n",
    "        axs[j].axis('off')\n",
    "    # fig.suptitle(\"Random Imgs\")\n",
    "    # plt.show()\n",
    "    fig.savefig(f'{args.base_save_path}/random_imgs_{i}.png', bbox_inches='tight')\n",
    "    if i == 5:\n",
    "        break"
   ]
  },
  {
   "cell_type": "code",
   "execution_count": null,
   "id": "871522b8",
   "metadata": {},
   "outputs": [],
   "source": []
  }
 ],
 "metadata": {
  "kernelspec": {
   "display_name": "Python 3 (ipykernel)",
   "language": "python",
   "name": "python3"
  },
  "language_info": {
   "codemirror_mode": {
    "name": "ipython",
    "version": 3
   },
   "file_extension": ".py",
   "mimetype": "text/x-python",
   "name": "python",
   "nbconvert_exporter": "python",
   "pygments_lexer": "ipython3",
   "version": "3.8.13"
  }
 },
 "nbformat": 4,
 "nbformat_minor": 5
}
